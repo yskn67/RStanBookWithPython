{
 "cells": [
  {
   "cell_type": "code",
   "execution_count": 1,
   "metadata": {},
   "outputs": [],
   "source": [
    "import pickle\n",
    "import pystan\n",
    "import numpy as np\n",
    "import pandas as pd"
   ]
  },
  {
   "cell_type": "code",
   "execution_count": 2,
   "metadata": {},
   "outputs": [],
   "source": [
    "with open(\"output/result-model4-5.pkl\", \"rb\") as f:\n",
    "    stan_model = pickle.load(f)\n",
    "    fit = pickle.load(f)"
   ]
  },
  {
   "cell_type": "code",
   "execution_count": 3,
   "metadata": {},
   "outputs": [],
   "source": [
    "ms = fit.extract()"
   ]
  },
  {
   "cell_type": "code",
   "execution_count": 4,
   "metadata": {},
   "outputs": [
    {
     "data": {
      "text/html": [
       "<div>\n",
       "<style scoped>\n",
       "    .dataframe tbody tr th:only-of-type {\n",
       "        vertical-align: middle;\n",
       "    }\n",
       "\n",
       "    .dataframe tbody tr th {\n",
       "        vertical-align: top;\n",
       "    }\n",
       "\n",
       "    .dataframe thead th {\n",
       "        text-align: right;\n",
       "    }\n",
       "</style>\n",
       "<table border=\"1\" class=\"dataframe\">\n",
       "  <thead>\n",
       "    <tr style=\"text-align: right;\">\n",
       "      <th></th>\n",
       "      <th>a</th>\n",
       "      <th>b</th>\n",
       "      <th>sigma</th>\n",
       "      <th>y50_base</th>\n",
       "      <th>y50</th>\n",
       "    </tr>\n",
       "  </thead>\n",
       "  <tbody>\n",
       "    <tr>\n",
       "      <th>0</th>\n",
       "      <td>-197.774402</td>\n",
       "      <td>22.539841</td>\n",
       "      <td>86.123605</td>\n",
       "      <td>929.217637</td>\n",
       "      <td>944.751773</td>\n",
       "    </tr>\n",
       "    <tr>\n",
       "      <th>1</th>\n",
       "      <td>-53.104406</td>\n",
       "      <td>20.900295</td>\n",
       "      <td>62.077233</td>\n",
       "      <td>991.910348</td>\n",
       "      <td>903.762216</td>\n",
       "    </tr>\n",
       "    <tr>\n",
       "      <th>2</th>\n",
       "      <td>-144.070181</td>\n",
       "      <td>22.655388</td>\n",
       "      <td>67.019922</td>\n",
       "      <td>988.699204</td>\n",
       "      <td>999.004568</td>\n",
       "    </tr>\n",
       "    <tr>\n",
       "      <th>3</th>\n",
       "      <td>-157.115862</td>\n",
       "      <td>22.785402</td>\n",
       "      <td>90.656661</td>\n",
       "      <td>982.154222</td>\n",
       "      <td>826.801292</td>\n",
       "    </tr>\n",
       "    <tr>\n",
       "      <th>4</th>\n",
       "      <td>-51.214209</td>\n",
       "      <td>20.051610</td>\n",
       "      <td>89.921365</td>\n",
       "      <td>951.366308</td>\n",
       "      <td>1117.231709</td>\n",
       "    </tr>\n",
       "  </tbody>\n",
       "</table>\n",
       "</div>"
      ],
      "text/plain": [
       "            a          b      sigma    y50_base          y50\n",
       "0 -197.774402  22.539841  86.123605  929.217637   944.751773\n",
       "1  -53.104406  20.900295  62.077233  991.910348   903.762216\n",
       "2 -144.070181  22.655388  67.019922  988.699204   999.004568\n",
       "3 -157.115862  22.785402  90.656661  982.154222   826.801292\n",
       "4  -51.214209  20.051610  89.921365  951.366308  1117.231709"
      ]
     },
     "execution_count": 4,
     "metadata": {},
     "output_type": "execute_result"
    }
   ],
   "source": [
    "N_mcmc = len(ms[\"lp__\"])\n",
    "y50_base = ms[\"a\"] + ms[\"b\"] * 50\n",
    "y50 = np.random.normal(y50_base, ms[\"sigma\"], N_mcmc)\n",
    "df_mcmc = pd.DataFrame(np.array([ms[\"a\"], ms[\"b\"], ms[\"sigma\"], y50_base, y50]).T, columns=[\"a\", \"b\", \"sigma\", \"y50_base\", \"y50\"])\n",
    "df_mcmc.head()"
   ]
  }
 ],
 "metadata": {
  "kernelspec": {
   "display_name": "Python 3",
   "language": "python",
   "name": "python3"
  },
  "language_info": {
   "codemirror_mode": {
    "name": "ipython",
    "version": 3
   },
   "file_extension": ".py",
   "mimetype": "text/x-python",
   "name": "python",
   "nbconvert_exporter": "python",
   "pygments_lexer": "ipython3",
   "version": "3.6.3"
  }
 },
 "nbformat": 4,
 "nbformat_minor": 2
}
