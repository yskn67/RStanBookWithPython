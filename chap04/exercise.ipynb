{
 "cells": [
  {
   "cell_type": "code",
   "execution_count": 1,
   "metadata": {},
   "outputs": [],
   "source": [
    "import numpy as np\n",
    "import pandas as pd\n",
    "import pystan\n",
    "import matplotlib.pyplot as plt\n",
    "import seaborn as sns\n",
    "import warnings\n",
    "warnings.filterwarnings('ignore')\n",
    "plt.style.use(\"ggplot\")\n",
    "%matplotlib inline"
   ]
  },
  {
   "cell_type": "markdown",
   "metadata": {},
   "source": [
    "### データ準備"
   ]
  },
  {
   "cell_type": "code",
   "execution_count": 2,
   "metadata": {},
   "outputs": [],
   "source": [
    "np.random.seed(123)\n",
    "N1= 30\n",
    "N2 = 20\n",
    "Y1 = np.random.normal(0, 5, N1)\n",
    "Y2 = np.random.normal(1, 4, N2)"
   ]
  },
  {
   "cell_type": "markdown",
   "metadata": {},
   "source": [
    "### (1)"
   ]
  },
  {
   "cell_type": "code",
   "execution_count": 3,
   "metadata": {},
   "outputs": [
    {
     "data": {
      "image/png": "[encoded data removed]",
      "text/plain": [
       "<matplotlib.figure.Figure at 0x109481668>"
      ]
     },
     "metadata": {},
     "output_type": "display_data"
    }
   ],
   "source": [
    "sns.boxplot(data=[Y1, Y2])\n",
    "sns.swarmplot(data=[Y1, Y2], color=\"black\", size=8)\n",
    "plt.show()"
   ]
  },
  {
   "cell_type": "markdown",
   "metadata": {},
   "source": [
    "### (2)"
   ]
  },
  {
   "cell_type": "markdown",
   "metadata": {},
   "source": [
    "$Y_1[n] \\sim Normal(\\mu_1, \\sigma) \\; n=1,...,N_1$  \n",
    "$Y_2[n] \\sim Normal(\\mu_2, \\sigma) \\; n=1,...,N_2$"
   ]
  },
  {
   "cell_type": "markdown",
   "metadata": {},
   "source": [
    "### (3)"
   ]
  },
  {
   "cell_type": "code",
   "execution_count": 4,
   "metadata": {},
   "outputs": [
    {
     "name": "stderr",
     "output_type": "stream",
     "text": [
      "INFO:pystan:COMPILING THE C++ CODE FOR MODEL anon_model_cf50942e1b6c6a3f2d49f3a4ffca669c NOW.\n"
     ]
    }
   ],
   "source": [
    "data = {\n",
    "    \"N1\": N1,\n",
    "    \"N2\": N2,\n",
    "    \"Y1\": Y1,\n",
    "    \"Y2\": Y2,\n",
    "}\n",
    "stan_model1 = pystan.StanModel(file=\"model/exercise3.stan\")\n",
    "fit1 = stan_model1.sampling(data=data, seed=1234)"
   ]
  },
  {
   "cell_type": "markdown",
   "metadata": {},
   "source": [
    "### (4)"
   ]
  },
  {
   "cell_type": "code",
   "execution_count": 5,
   "metadata": {},
   "outputs": [
    {
     "data": {
      "text/plain": [
       "0.655"
      ]
     },
     "execution_count": 5,
     "metadata": {},
     "output_type": "execute_result"
    }
   ],
   "source": [
    "ms1 = fit1.extract()\n",
    "sum(ms1[\"mu1\"] < ms1[\"mu2\"]) / len(ms1[\"mu1\"])"
   ]
  },
  {
   "cell_type": "markdown",
   "metadata": {},
   "source": [
    "### (5)"
   ]
  },
  {
   "cell_type": "markdown",
   "metadata": {},
   "source": [
    "$Y_1[n] \\sim Normal(\\mu_1, \\sigma_1) \\; n=1,...,N_1$  \n",
    "$Y_2[n] \\sim Normal(\\mu_2, \\sigma_2) \\; n=1,...,N_2$"
   ]
  },
  {
   "cell_type": "code",
   "execution_count": 6,
   "metadata": {},
   "outputs": [
    {
     "name": "stderr",
     "output_type": "stream",
     "text": [
      "INFO:pystan:COMPILING THE C++ CODE FOR MODEL anon_model_8499a7d8c67e20f5e547acb055e19642 NOW.\n"
     ]
    }
   ],
   "source": [
    "data = {\n",
    "    \"N1\": N1,\n",
    "    \"N2\": N2,\n",
    "    \"Y1\": Y1,\n",
    "    \"Y2\": Y2,\n",
    "}\n",
    "stan_model2 = pystan.StanModel(file=\"model/exercise5.stan\")\n",
    "fit2 = stan_model2.sampling(data=data, seed=1234)"
   ]
  },
  {
   "cell_type": "code",
   "execution_count": 7,
   "metadata": {},
   "outputs": [
    {
     "data": {
      "text/plain": [
       "0.65775"
      ]
     },
     "execution_count": 7,
     "metadata": {},
     "output_type": "execute_result"
    }
   ],
   "source": [
    "ms2 = fit2.extract()\n",
    "sum(ms2[\"mu1\"] < ms2[\"mu2\"]) / len(ms2[\"mu1\"])"
   ]
  }
 ],
 "metadata": {
  "kernelspec": {
   "display_name": "Python 3",
   "language": "python",
   "name": "python3"
  },
  "language_info": {
   "codemirror_mode": {
    "name": "ipython",
    "version": 3
   },
   "file_extension": ".py",
   "mimetype": "text/x-python",
   "name": "python",
   "nbconvert_exporter": "python",
   "pygments_lexer": "ipython3",
   "version": "3.6.3"
  }
 },
 "nbformat": 4,
 "nbformat_minor": 2
}
